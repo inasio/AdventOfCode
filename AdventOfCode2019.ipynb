{
 "cells": [
  {
   "cell_type": "markdown",
   "metadata": {},
   "source": [
    "Advent of Code 2019"
   ]
  },
  {
   "cell_type": "code",
   "execution_count": 18,
   "metadata": {},
   "outputs": [],
   "source": [
    "from aocd import get_data\n",
    "import itertools\n",
    "from copy import copy\n",
    "import numpy as np"
   ]
  },
  {
   "cell_type": "code",
   "execution_count": 16,
   "metadata": {},
   "outputs": [
    {
     "name": "stdout",
     "output_type": "stream",
     "text": [
      "total fuel part a) = 3423279\n",
      "total fuel part b) = 5132018\n"
     ]
    }
   ],
   "source": [
    "# day 1\n",
    "# part a\n",
    "a = get_data(year=2019, day=1).split()\n",
    "b = list(map(int, a))\n",
    "c = [x//3-2 for x in b]\n",
    "print('total fuel part a) = %i'%sum(c))\n",
    "# part b\n",
    "total_fuel = 0\n",
    "for fuel in c:\n",
    "    while fuel>0:\n",
    "        total_fuel += fuel\n",
    "        fuel = fuel//3-2\n",
    "print('total fuel part b) = %i'%total_fuel)"
   ]
  },
  {
   "cell_type": "code",
   "execution_count": 17,
   "metadata": {},
   "outputs": [
    {
     "name": "stdout",
     "output_type": "stream",
     "text": [
      "sol part a) = 3895705\n",
      "noun, verb =  (64, 17) \n",
      "sol part b) =  6417\n"
     ]
    }
   ],
   "source": [
    "# day 2\n",
    "def grav_assist(b, x, y):\n",
    "    b[1], b[2] = x, y\n",
    "    ix = 0\n",
    "    while True:\n",
    "        if b[ix] == 99:\n",
    "            return b[0]\n",
    "        elif b[ix] == 1:\n",
    "            b[b[ix+3]] = b[b[ix+1]] + b[b[ix+2]]\n",
    "        elif b[ix] == 2:\n",
    "            b[b[ix+3]] = b[b[ix+1]] * b[b[ix+2]]\n",
    "        ix += 4\n",
    "\n",
    "# part a\n",
    "a = get_data(year=2019, day=2).split(',')\n",
    "b = list(map(int, a))\n",
    "print('sol part a) = %i'%grav_assist(b.copy(), 12, 2))\n",
    "\n",
    "# part b\n",
    "xy_pairs = itertools.product(range(100), range(100))\n",
    "for pair in xy_pairs:\n",
    "    if grav_assist(b.copy(), *pair) == 19690720:\n",
    "        print('noun, verb = ', pair, '\\nsol part b) = ', pair[0]*100+pair[1])\n",
    "        break"
   ]
  },
  {
   "cell_type": "code",
   "execution_count": 20,
   "metadata": {},
   "outputs": [
    {
     "name": "stdout",
     "output_type": "stream",
     "text": [
      "min crossing occurs at  (-1059, 166)\n",
      "distance to min crossing is 1225\n",
      "aggregatge distance to min crossing is 107036\n"
     ]
    }
   ],
   "source": [
    "# day 3\n",
    "def generate_sections(moves):\n",
    "    # return a list of all vertical and horizontal sections, \n",
    "    #   horizontals are (x0, x1, y0), with x0<x1\n",
    "    #   verticals are (x0, y0, y1), wit y0<y1\n",
    "    init = [0,0]\n",
    "    sections = {'horizontal':[], 'vertical':[]}\n",
    "    for move in moves:\n",
    "        if move[0] == 'L':\n",
    "            sections['horizontal'].append((init[0]-int(move[1:]), *init))\n",
    "            init[0] -= int(move[1:])\n",
    "        elif move[0] == 'R':\n",
    "            sections['horizontal'].append((init[0], init[0]+int(move[1:]), init[1]))\n",
    "            init[0] += int(move[1:])\n",
    "        elif move[0] == 'U':\n",
    "            sections['vertical'].append((*init, init[1]+int(move[1:])))\n",
    "            init[1] += int(move[1:])\n",
    "        elif move[0] == 'D':\n",
    "            sections['vertical'].append((init[0], init[1]-int(move[1:]), init[1]))\n",
    "            init[1] -= int(move[1:])\n",
    "    return sections\n",
    "\n",
    "def find_crossings(sections0, sections1):\n",
    "    crossings = []\n",
    "    for x0a,x0b,y0a in sections0['horizontal']:\n",
    "        for x1a,y1a,y1b in sections1['vertical']:\n",
    "            if (x0a < x1a < x0b) & (y1a < y0a < y1b):\n",
    "                crossings.append((x1a, y0a))\n",
    "    for x0a,x0b,y0a in sections1['horizontal']:\n",
    "        for x1a,y1a,y1b in sections0['vertical']:\n",
    "            if (x0a < x1a < x0b) & (y1a < y0a < y1b):\n",
    "                crossings.append((x1a, y0a))\n",
    "    return crossings\n",
    "\n",
    "def distance_to_crossing(moves, crossing):\n",
    "    init = [0,0]\n",
    "    distance = 0\n",
    "    for move in moves:\n",
    "        old_init = init.copy()\n",
    "        if move[0] == 'L':\n",
    "            init[0] -= int(move[1:])\n",
    "            if (init[0] < crossing[0] < old_init[0]) & (init[1] == crossing[1]):\n",
    "                return distance + old_init[0] - crossing[0]\n",
    "        elif move[0] == 'R':\n",
    "            init[0] += int(move[1:])\n",
    "            if (old_init[0] < crossing[0] < init[0]) & (init[1] == crossing[1]):\n",
    "                return distance + crossing[0] - old_init[0]\n",
    "        elif move[0] == 'U':\n",
    "            init[1] += int(move[1:])\n",
    "            if (old_init[1] < crossing[1] < init[1]) & (init[0] == crossing[0]):\n",
    "                return distance + crossing[1] - old_init[1]\n",
    "        elif move[0] == 'D':\n",
    "            init[1] -= int(move[1:])    \n",
    "            if (init[1] < crossing[1] < old_init[1]) & (init[0] == crossing[0]):\n",
    "                return distance + old_init[1] - crossing[1]\n",
    "        distance += int(move[1:])\n",
    "    print('no crossing found')\n",
    "    return\n",
    "\n",
    "b = get_data(year=2019, day=3).splitlines()\n",
    "c = [x.split(',') for x in b]\n",
    "\n",
    "all_coords = []\n",
    "sections = {}\n",
    "for i, moves in enumerate(c):\n",
    "    sections[i] = generate_sections(moves)\n",
    "crossings = find_crossings(sections[0], sections[1])\n",
    "min_crossing = min(crossings, key = lambda el:abs(el[0])+abs(el[1]))\n",
    "print('min crossing occurs at ',min_crossing)\n",
    "print('distance to min crossing is %i'%np.linalg.norm(min_crossing,1))\n",
    "\n",
    "# part b \n",
    "\n",
    "crossings_dict = {x:0 for x in crossings}\n",
    "for crossing in crossings:\n",
    "    for i in range(2):\n",
    "        dist = distance_to_crossing(c[i], crossing)\n",
    "        crossings_dict[crossing] += dist\n",
    "#     print(crossing, crossings_dict[crossing])\n",
    "print('aggregatge distance to min crossing is %i'%min(crossings_dict.values()))"
   ]
  }
 ],
 "metadata": {
  "kernelspec": {
   "display_name": "Python 3",
   "language": "python",
   "name": "python3"
  },
  "language_info": {
   "codemirror_mode": {
    "name": "ipython",
    "version": 3
   },
   "file_extension": ".py",
   "mimetype": "text/x-python",
   "name": "python",
   "nbconvert_exporter": "python",
   "pygments_lexer": "ipython3",
   "version": "3.7.1"
  }
 },
 "nbformat": 4,
 "nbformat_minor": 2
}
