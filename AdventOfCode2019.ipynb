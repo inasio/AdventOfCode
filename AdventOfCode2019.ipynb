{
 "cells": [
  {
   "cell_type": "markdown",
   "metadata": {},
   "source": [
    "Advent of Code 2019"
   ]
  },
  {
   "cell_type": "code",
   "execution_count": 4,
   "metadata": {},
   "outputs": [],
   "source": [
    "from aocd import get_data\n",
    "import itertools\n",
    "from copy import copy"
   ]
  },
  {
   "cell_type": "code",
   "execution_count": 9,
   "metadata": {},
   "outputs": [
    {
     "name": "stdout",
     "output_type": "stream",
     "text": [
      "total fuel part a) = 3423279\n",
      "total fuel part b) = 5132018\n"
     ]
    }
   ],
   "source": [
    "# problem 1\n",
    "# part a\n",
    "a = get_data(year=2019, day=1).split()\n",
    "b = list(map(int, a))\n",
    "c = [x//3-2 for x in b]\n",
    "print('total fuel part a) = %i'%sum(c))\n",
    "# part b\n",
    "total_fuel = 0\n",
    "for fuel in c:\n",
    "    while fuel>0:\n",
    "        total_fuel += fuel\n",
    "        fuel = fuel//3-2\n",
    "print('total fuel part b) = %i'%total_fuel)"
   ]
  },
  {
   "cell_type": "code",
   "execution_count": 15,
   "metadata": {},
   "outputs": [
    {
     "name": "stdout",
     "output_type": "stream",
     "text": [
      "sol part a) = 3895705\n",
      "noun, verb =  (64, 17) \n",
      "sol part b) =  6417\n"
     ]
    }
   ],
   "source": [
    "# problem 2\n",
    "def grav_assist(b, x, y):\n",
    "    b[1], b[2] = x, y\n",
    "    ix = 0\n",
    "    while True:\n",
    "        if b[ix] == 99:\n",
    "            return b[0]\n",
    "        elif b[ix] == 1:\n",
    "            b[b[ix+3]] = b[b[ix+1]] + b[b[ix+2]]\n",
    "        elif b[ix] == 2:\n",
    "            b[b[ix+3]] = b[b[ix+1]] * b[b[ix+2]]\n",
    "        ix += 4\n",
    "\n",
    "# part a\n",
    "a = get_data(year=2019, day=2).split(',')\n",
    "b = list(map(int, a))\n",
    "print('sol part a) = %i'%grav_assist(b.copy(), 12, 2))\n",
    "\n",
    "# part b\n",
    "xy_pairs = itertools.product(range(100), range(100))\n",
    "for pair in xy_pairs:\n",
    "    if grav_assist(b.copy(), *pair) == 19690720:\n",
    "        print('noun, verb = ', pair, '\\nsol part b) = ', pair[0]*100+pair[1])\n",
    "        break"
   ]
  },
  {
   "cell_type": "code",
   "execution_count": null,
   "metadata": {},
   "outputs": [],
   "source": []
  }
 ],
 "metadata": {
  "kernelspec": {
   "display_name": "Python 3",
   "language": "python",
   "name": "python3"
  },
  "language_info": {
   "codemirror_mode": {
    "name": "ipython",
    "version": 3
   },
   "file_extension": ".py",
   "mimetype": "text/x-python",
   "name": "python",
   "nbconvert_exporter": "python",
   "pygments_lexer": "ipython3",
   "version": "3.7.1"
  }
 },
 "nbformat": 4,
 "nbformat_minor": 2
}
