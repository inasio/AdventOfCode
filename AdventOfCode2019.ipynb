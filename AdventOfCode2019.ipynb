{
 "cells": [
  {
   "cell_type": "markdown",
   "metadata": {},
   "source": [
    "Advent of Code 2019"
   ]
  },
  {
   "cell_type": "code",
   "execution_count": 118,
   "metadata": {},
   "outputs": [],
   "source": [
    "from aocd import get_data\n",
    "import itertools\n",
    "from copy import copy\n",
    "import numpy as np\n",
    "import networkx as nx\n",
    "import matplotlib.pyplot as plt\n",
    "import math"
   ]
  },
  {
   "cell_type": "code",
   "execution_count": 223,
   "metadata": {},
   "outputs": [
    {
     "name": "stdout",
     "output_type": "stream",
     "text": [
      "part a)\n",
      "total fuel = 3423279\n",
      "part b)\n",
      "total fuel = 5132018\n"
     ]
    }
   ],
   "source": [
    "# day 1\n",
    "# part a\n",
    "a = get_data(year=2019, day=1).split()\n",
    "b = list(map(int, a))\n",
    "c = [x//3-2 for x in b]\n",
    "print('part a)\\ntotal fuel = %i'%sum(c))\n",
    "# part b\n",
    "total_fuel = 0\n",
    "for fuel in c:\n",
    "    while fuel>0:\n",
    "        total_fuel += fuel\n",
    "        fuel = fuel//3-2\n",
    "print('part b)\\ntotal fuel = %i'%total_fuel)"
   ]
  },
  {
   "cell_type": "code",
   "execution_count": 222,
   "metadata": {},
   "outputs": [
    {
     "name": "stdout",
     "output_type": "stream",
     "text": [
      "part a)\n",
      "solution = 3895705\n",
      "noun, verb =  (64, 17) \n",
      "part b)\n",
      "solution =  6417\n"
     ]
    }
   ],
   "source": [
    "# day 2\n",
    "def grav_assist(b, x, y):\n",
    "    b[1], b[2] = x, y\n",
    "    ix = 0\n",
    "    while True:\n",
    "        if b[ix] == 99:\n",
    "            return b[0]\n",
    "        elif b[ix] == 1:\n",
    "            b[b[ix+3]] = b[b[ix+1]] + b[b[ix+2]]\n",
    "        elif b[ix] == 2:\n",
    "            b[b[ix+3]] = b[b[ix+1]] * b[b[ix+2]]\n",
    "        ix += 4\n",
    "\n",
    "# part a\n",
    "a = get_data(year=2019, day=2).split(',')\n",
    "b = list(map(int, a))\n",
    "print('part a)\\nsolution = %i'%grav_assist(b.copy(), 12, 2))\n",
    "\n",
    "# part b\n",
    "xy_pairs = itertools.product(range(100), range(100))\n",
    "for pair in xy_pairs:\n",
    "    if grav_assist(b.copy(), *pair) == 19690720:\n",
    "        print('noun, verb = ', pair, '\\npart b)\\nsolution = ', pair[0]*100+pair[1])\n",
    "        break"
   ]
  },
  {
   "cell_type": "code",
   "execution_count": 226,
   "metadata": {},
   "outputs": [
    {
     "name": "stdout",
     "output_type": "stream",
     "text": [
      "part a)\n",
      "min crossing occurs at  (-1059, 166)\n",
      "distance to min crossing is 1225\n",
      "part b)\n",
      "aggregate distance to min crossing is 107036\n"
     ]
    }
   ],
   "source": [
    "# day 3\n",
    "def generate_sections(moves):\n",
    "    # return a list of all vertical and horizontal sections, \n",
    "    #   horizontals are (x0, x1, y0), with x0<x1\n",
    "    #   verticals are (x0, y0, y1), wit y0<y1\n",
    "    init = [0,0]\n",
    "    sections = {'horizontal':[], 'vertical':[]}\n",
    "    for move in moves:\n",
    "        if move[0] == 'L':\n",
    "            sections['horizontal'].append((init[0]-int(move[1:]), *init))\n",
    "            init[0] -= int(move[1:])\n",
    "        elif move[0] == 'R':\n",
    "            sections['horizontal'].append((init[0], init[0]+int(move[1:]), init[1]))\n",
    "            init[0] += int(move[1:])\n",
    "        elif move[0] == 'U':\n",
    "            sections['vertical'].append((*init, init[1]+int(move[1:])))\n",
    "            init[1] += int(move[1:])\n",
    "        elif move[0] == 'D':\n",
    "            sections['vertical'].append((init[0], init[1]-int(move[1:]), init[1]))\n",
    "            init[1] -= int(move[1:])\n",
    "    return sections\n",
    "\n",
    "def find_crossings(sections0, sections1):\n",
    "    crossings = []\n",
    "    for x0a,x0b,y0a in sections0['horizontal']:\n",
    "        for x1a,y1a,y1b in sections1['vertical']:\n",
    "            if (x0a < x1a < x0b) & (y1a < y0a < y1b):\n",
    "                crossings.append((x1a, y0a))\n",
    "    for x0a,x0b,y0a in sections1['horizontal']:\n",
    "        for x1a,y1a,y1b in sections0['vertical']:\n",
    "            if (x0a < x1a < x0b) & (y1a < y0a < y1b):\n",
    "                crossings.append((x1a, y0a))\n",
    "    return crossings\n",
    "\n",
    "def distance_to_crossing(moves, crossing):\n",
    "    init = [0,0]\n",
    "    distance = 0\n",
    "    for move in moves:\n",
    "        old_init = init.copy()\n",
    "        if move[0] == 'L':\n",
    "            init[0] -= int(move[1:])\n",
    "            if (init[0] < crossing[0] < old_init[0]) & (init[1] == crossing[1]):\n",
    "                return distance + old_init[0] - crossing[0]\n",
    "        elif move[0] == 'R':\n",
    "            init[0] += int(move[1:])\n",
    "            if (old_init[0] < crossing[0] < init[0]) & (init[1] == crossing[1]):\n",
    "                return distance + crossing[0] - old_init[0]\n",
    "        elif move[0] == 'U':\n",
    "            init[1] += int(move[1:])\n",
    "            if (old_init[1] < crossing[1] < init[1]) & (init[0] == crossing[0]):\n",
    "                return distance + crossing[1] - old_init[1]\n",
    "        elif move[0] == 'D':\n",
    "            init[1] -= int(move[1:])    \n",
    "            if (init[1] < crossing[1] < old_init[1]) & (init[0] == crossing[0]):\n",
    "                return distance + old_init[1] - crossing[1]\n",
    "        distance += int(move[1:])\n",
    "    print('no crossing found')\n",
    "    return\n",
    "\n",
    "b = get_data(year=2019, day=3).splitlines()\n",
    "c = [x.split(',') for x in b]\n",
    "\n",
    "all_coords = []\n",
    "sections = {}\n",
    "for i, moves in enumerate(c):\n",
    "    sections[i] = generate_sections(moves)\n",
    "crossings = find_crossings(sections[0], sections[1])\n",
    "min_crossing = min(crossings, key = lambda el:abs(el[0])+abs(el[1]))\n",
    "print('part a)\\nmin crossing occurs at ',min_crossing)\n",
    "print('distance to min crossing is %i'%np.linalg.norm(min_crossing,1))\n",
    "\n",
    "# part b \n",
    "crossings_dict = {x:0 for x in crossings}\n",
    "for crossing in crossings:\n",
    "    for i in range(2):\n",
    "        dist = distance_to_crossing(c[i], crossing)\n",
    "        crossings_dict[crossing] += dist\n",
    "#     print(crossing, crossings_dict[crossing])\n",
    "print('part b)\\naggregate distance to min crossing is %i'%min(crossings_dict.values()))"
   ]
  },
  {
   "cell_type": "code",
   "execution_count": 228,
   "metadata": {},
   "outputs": [
    {
     "name": "stdout",
     "output_type": "stream",
     "text": [
      "part a)\n",
      "num possible passwords = 1653\n",
      "part b)\n",
      "num possible passwords = 1133\n"
     ]
    }
   ],
   "source": [
    "# day 4 \n",
    "def match_two(num):\n",
    "#     return True if there are two consecutive numbers (e.g. 2344 is True, 23444 is False)\n",
    "    if len(set(num)) == len(num):\n",
    "        return False\n",
    "    if num[0] == num[1] != num[2]:\n",
    "        return True\n",
    "    if num[-1] == num[-2] != num[-3]:\n",
    "        return True\n",
    "    for i,x in enumerate(num[1:-2]):\n",
    "        if num[i]!=num[i+1]==num[i+2]!=num[i+3]:\n",
    "            return True\n",
    "    return False\n",
    "\n",
    "a = get_data(year=2019, day=4)\n",
    "b = a.split('-')\n",
    "c = list(map(int, b))\n",
    "\n",
    "# part a \n",
    "counter = 0\n",
    "for x in range(c[0], c[1]+1):\n",
    "    lx = list(str(x))\n",
    "    if (lx == sorted(lx)) and (len(set(lx)) < len(lx)):\n",
    "        counter += 1\n",
    "print('part a)\\nnum possible passwords = %i'%counter)\n",
    "\n",
    "# part b\n",
    "counter = 0\n",
    "for x in range(c[0], c[1]+1):\n",
    "    lx = list(str(x))\n",
    "    if (lx == sorted(lx)) and (match_two(lx)):\n",
    "        counter += 1\n",
    "print('part b)\\nnum possible passwords = %i'%counter)\n"
   ]
  },
  {
   "cell_type": "code",
   "execution_count": 216,
   "metadata": {},
   "outputs": [],
   "source": [
    "# day 5 (TBD)"
   ]
  },
  {
   "cell_type": "code",
   "execution_count": 229,
   "metadata": {},
   "outputs": [
    {
     "name": "stdout",
     "output_type": "stream",
     "text": [
      "part a)\n",
      "total orbits = 251208\n",
      "part b)\n",
      "total orbits = 397\n"
     ]
    }
   ],
   "source": [
    "# day 6 \n",
    "a = get_data(year=2019, day=6)\n",
    "b = a.split()\n",
    "c = [x.split(')') for x in b]\n",
    "\n",
    "# part a\n",
    "G = nx.Graph()\n",
    "G.add_edges_from(c)\n",
    "# nx.draw(G, node_size=1)\n",
    "num_orbits = 0\n",
    "for node in G.nodes():\n",
    "    num_orbits += nx.shortest_path_length(G, source='COM', target=node)\n",
    "print('part a)\\ntotal orbits = %i'%num_orbits)\n",
    "\n",
    "# part b\n",
    "print('part b)\\ntotal orbits = %i'%(nx.shortest_path_length(G, source='YOU', target='SAN')-2))"
   ]
  },
  {
   "cell_type": "code",
   "execution_count": 217,
   "metadata": {},
   "outputs": [],
   "source": [
    "# day 7 (TBD)"
   ]
  },
  {
   "cell_type": "code",
   "execution_count": 233,
   "metadata": {},
   "outputs": [
    {
     "name": "stdout",
     "output_type": "stream",
     "text": [
      "part a)\n",
      "max num of zeros = 5\n",
      "solution = 2904\n",
      "part b)\n"
     ]
    },
    {
     "data": {
      "text/plain": [
       "<matplotlib.image.AxesImage at 0x1176bd198>"
      ]
     },
     "execution_count": 233,
     "metadata": {},
     "output_type": "execute_result"
    },
    {
     "data": {
      "image/png": "[encoded data removed]",
      "text/plain": [
       "<Figure size 432x288 with 1 Axes>"
      ]
     },
     "metadata": {
      "needs_background": "light"
     },
     "output_type": "display_data"
    }
   ],
   "source": [
    "# day 8 \n",
    "a = get_data(year=2019, day=8)\n",
    "b = list(map(int, list(a)))\n",
    "c = np.array(b)\n",
    "\n",
    "# part a\n",
    "x,y = 25,6\n",
    "z = int(len(b)/(x*y))\n",
    "d = c.reshape(z,y,x)\n",
    "max_zeroes = 1000000\n",
    "for i in range(z):\n",
    "    sub_mat = d[i,:,:]\n",
    "    sum_zeros = sum(sum(sub_mat == 0))\n",
    "    if sum_zeros < max_zeroes:\n",
    "        max_zeroes = sum_zeros\n",
    "        result = sum(sum(sub_mat == 1)) * sum(sum(sub_mat == 2))\n",
    "print('part a)\\nmax num of zeros = %i'%max_zeroes)\n",
    "print('solution = %i'%result)\n",
    "\n",
    "# part b\n",
    "updated_image = 2 - d[0,:,:]    # adjusted to transparent=0, white=1 and the other black=2\n",
    "for i in range(1,z):\n",
    "    layer = 2 - d[i,:,:]\n",
    "    updated_image += layer*(updated_image==0)   # only update the places where layer = 0 \n",
    "print('part b)')\n",
    "plt.spy(updated_image-1)"
   ]
  },
  {
   "cell_type": "code",
   "execution_count": 218,
   "metadata": {},
   "outputs": [
    {
     "name": "stdout",
     "output_type": "stream",
     "text": [
      "part a)\n",
      "max number of sats = 340\n",
      "optimal sat coords = (28, 29)\n",
      "part b)\n",
      "200th destroyed asteroid = (26, 28)\n",
      "solution = 2628\n"
     ]
    }
   ],
   "source": [
    "# day 10\n",
    "def prime_factors(n):\n",
    "    i = 2\n",
    "    factors = set()\n",
    "    while i * i <= n:\n",
    "        if n % i:\n",
    "            i += 1\n",
    "        else:\n",
    "            n //= i\n",
    "            factors.add(i)\n",
    "    if n > 1:\n",
    "        factors.add(n)\n",
    "    return factors\n",
    "    \n",
    "a = get_data(year=2019, day=10)\n",
    "b = a.split()\n",
    "dim_x, dim_y = len(b[0]), len(b)\n",
    "asteroid_coords = [(x,y) for x in range(dim_x) for y in range(dim_y) if b[y][x] == '#']\n",
    "\n",
    "# generate all possible updates that are not colinear \n",
    "all_possible_updates = [(1,0), (0,1), (-1,0), (0,-1)]\n",
    "for dx in range(1,dim_x):\n",
    "    for dy in range(1,dim_y):\n",
    "        a,b = prime_factors(dx), prime_factors(dy)\n",
    "        if a.intersection(b) == set():\n",
    "            all_possible_updates += [(dx, dy), (dx, -dy), (-dx, dy), (-dx, -dy)]\n",
    "len(all_possible_updates)\n",
    "\n",
    "# part a\n",
    "vis_sats = np.zeros([dim_x, dim_y])\n",
    "for i, coords_0 in enumerate(asteroid_coords):\n",
    "    all_possible_updates_temp = all_possible_updates.copy()\n",
    "    vis_sats[coords_0] = 0\n",
    "    for j, coords_1 in enumerate(asteroid_coords):\n",
    "        if coords_0 != coords_1:\n",
    "            possible_in_range = (coords_1[0] - coords_0[0], coords_1[1] - coords_0[1])\n",
    "            max_div = math.gcd(*possible_in_range)\n",
    "            possible_update = tuple(x/max_div for x in possible_in_range)\n",
    "            if possible_update in all_possible_updates_temp:\n",
    "                vis_sats[coords_0] += 1\n",
    "                all_possible_updates_temp.remove(possible_update)\n",
    "\n",
    "max_sats = np.max(vis_sats)\n",
    "b=np.isin(vis_sats, max_sats)\n",
    "c = np.where(b)\n",
    "optimal_coords = (c[0][0], c[1][0])\n",
    "print('part a)\\nmax number of sats = %i'%max_sats)\n",
    "print('optimal sat coords = (%i, %i)'%(optimal_coords[0], optimal_coords[1]))\n",
    "\n",
    "# part b\n",
    "ordered_updates = sorted(all_possible_updates, key=lambda x: (5*np.pi/2 + math.atan2(x[1],x[0]))%(2*np.pi), reverse=False)\n",
    "sat_killer_counter = 0\n",
    "asteroid_coords_temp = asteroid_coords\n",
    "for update in ordered_updates:\n",
    "    for i in range(1,42):\n",
    "        poss_asteroid = (optimal_coords[0]+update[0]*i, optimal_coords[1]+update[1]*i)\n",
    "        if poss_asteroid in asteroid_coords_temp:\n",
    "            sat_killer_counter += 1\n",
    "            asteroid_coords_temp.remove(poss_asteroid)\n",
    "            if sat_killer_counter == 200:\n",
    "                print('part b)\\n200th destroyed asteroid = (%i, %i)\\nsolution = %i'%(poss_asteroid[0], poss_asteroid[1], poss_asteroid[0]*100 + poss_asteroid[1]))\n",
    "            break"
   ]
  },
  {
   "cell_type": "code",
   "execution_count": 219,
   "metadata": {},
   "outputs": [],
   "source": [
    "#day 11 (TBD)"
   ]
  },
  {
   "cell_type": "code",
   "execution_count": 214,
   "metadata": {},
   "outputs": [],
   "source": [
    "# day 12 (TBD)\n",
    "def update_velocity(all_pair, positions, velocities):\n",
    "    all_axis = positions[0].keys()\n",
    "    updated_velocities = velocities.copy()\n",
    "    for x,y in all_pairs:\n",
    "        for axis in all_axis:\n",
    "            if positions[x][axis] > positions[y][axis]:\n",
    "                updated_velocities[x][axis] -= 1\n",
    "                updated_velocities[y][axis] += 1\n",
    "            elif positions[x][axis] < positions[y][axis]:\n",
    "                updated_velocities[x][axis] += 1\n",
    "                updated_velocities[y][axis] -= 1\n",
    "    return updated_velocities\n",
    "\n",
    "def update_position(all_pair, positions, velocities):\n",
    "    all_axis = positions[0].keys()\n",
    "    updated_positions = positions.copy()\n",
    "    for moon in range(4):\n",
    "        for axis in all_axis:\n",
    "            updated_positions[moon][axis] += velocities[moon][axis]\n",
    "    return updated_positions\n",
    "\n",
    "def calculate_energy(positions, velocities):\n",
    "    total_energy = 0\n",
    "    all_axis = positions[0].keys()\n",
    "    for moon in range(4):\n",
    "        kinetic, potential = 0, 0\n",
    "        for axis in all_axis:\n",
    "            kinetic += np.abs(positions[moon][axis])\n",
    "            potential += np.abs(velocities[moon][axis])\n",
    "        total_energy += kinetic * potential\n",
    "    return total_energy\n",
    "            \n",
    "\n",
    "a = get_data(year=2019, day=12)\n",
    "b = a[1:-1].split('>\\n<')\n",
    "\n",
    "positions, velocities = {}, {}\n",
    "for i,x in enumerate(b):\n",
    "    coords = x.split(', ')\n",
    "    positions[i] = {x[0]:int(x[2:]) for x in coords}\n",
    "    velocities[i] = {x[0]:0 for x in coords}\n",
    "\n",
    "all_pairs = list(itertools.combinations(range(len(positions)), 2))\n",
    "for i in range(1000):\n",
    "    velocities = update_velocity(all_pairs, positions, velocities)\n",
    "    positions = update_position(all_pairs, positions, velocities)\n",
    "    total_energy = calculate_energy(positions, velocities)\n",
    "#     print('it %i total energy = %i'%(i, total_energy))"
   ]
  }
 ],
 "metadata": {
  "kernelspec": {
   "display_name": "Python 3",
   "language": "python",
   "name": "python3"
  },
  "language_info": {
   "codemirror_mode": {
    "name": "ipython",
    "version": 3
   },
   "file_extension": ".py",
   "mimetype": "text/x-python",
   "name": "python",
   "nbconvert_exporter": "python",
   "pygments_lexer": "ipython3",
   "version": "3.7.1"
  }
 },
 "nbformat": 4,
 "nbformat_minor": 2
}
